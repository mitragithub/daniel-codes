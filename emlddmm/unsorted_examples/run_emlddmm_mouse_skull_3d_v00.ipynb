{
 "cells": [
  {
   "cell_type": "markdown",
   "metadata": {},
   "source": [
    "# Mouse skull 3D v00\n",
    "In this notebook we run registration for mouse data with skull, MD816.  Here we just look at 3D datasets.\n",
    "\n",
    "\n",
    "Note atlas MRI is 50,50,50 micron\n",
    "\n",
    "and target CT is 64,64,64, micron\n",
    "\n"
   ]
  },
  {
   "cell_type": "code",
   "execution_count": null,
   "metadata": {},
   "outputs": [],
   "source": [
    "%matplotlib inline\n",
    "import numpy as np\n",
    "import torch\n",
    "import matplotlib.pyplot as plt\n",
    "import emlddmm\n",
    "import json\n",
    "import nrrd\n",
    "import os\n",
    "\n",
    "\n",
    "# for debugging only\n",
    "import imp\n",
    "imp.reload(emlddmm)"
   ]
  },
  {
   "cell_type": "code",
   "execution_count": null,
   "metadata": {},
   "outputs": [],
   "source": [
    "atlas_name = 'C:\\\\Users\\\\BGAdmin\\\\data\\\\MD816/HR_NIHxCSHL_50um_14T_M1_masked.vtk'\n",
    "target_name = 'C:\\\\Users\\\\BGAdmin\\\\data\\\\MD816/ct_mask.vtk'\n",
    "\n",
    "\n",
    "config_file = 'configMD816_MR_to_CT.json'\n",
    "output_dir = 'MD816_test_00/'"
   ]
  },
  {
   "cell_type": "code",
   "execution_count": null,
   "metadata": {},
   "outputs": [],
   "source": [
    "with open(config_file) as f:\n",
    "    config = json.load(f)\n",
    "# I'm getting this for initial downsampling for preprocessing\n",
    "downIs = config['downI']\n",
    "downJs = config['downJ']"
   ]
  },
  {
   "cell_type": "code",
   "execution_count": null,
   "metadata": {
    "scrolled": false
   },
   "outputs": [],
   "source": [
    "# atlas\n",
    "imp.reload(emlddmm)\n",
    "xI,I,title,names = emlddmm.read_data(atlas_name)\n",
    "I = I.astype(float)\n",
    "# normalize\n",
    "I /= np.mean(np.abs(I))\n",
    "dI = np.array([x[1]-x[0] for x in xI])\n",
    "print(dI)\n",
    "fig = emlddmm.draw(I,xI)\n",
    "fig[0].suptitle('Atlas image')\n"
   ]
  },
  {
   "cell_type": "code",
   "execution_count": null,
   "metadata": {},
   "outputs": [],
   "source": [
    "fig,ax = plt.subplots()\n",
    "ax.hist(I.ravel(),bins=100,log=True)\n",
    "ax.set_title('Atlas pixel intensities')"
   ]
  },
  {
   "cell_type": "code",
   "execution_count": null,
   "metadata": {},
   "outputs": [],
   "source": [
    "# initial downsampling so there isn't so much on the gpu\n",
    "mindownI = np.min(np.array(downIs),0)\n",
    "xI,I = emlddmm.downsample_image_domain(xI,I,mindownI)\n",
    "downIs = [ list((np.array(d)/mindownI).astype(int)) for d in downIs]\n",
    "dI = [x[1]-x[0] for x in xI]\n",
    "print(dI)\n",
    "nI = np.array(I.shape,dtype=int)\n",
    "# update our config variable\n",
    "config['downI'] = downIs"
   ]
  },
  {
   "cell_type": "code",
   "execution_count": null,
   "metadata": {},
   "outputs": [],
   "source": [
    "fig = emlddmm.draw(I,xI)\n",
    "fig[0].suptitle('Initial downsampled atlas')\n",
    "fig[0].canvas.draw()"
   ]
  },
  {
   "cell_type": "code",
   "execution_count": null,
   "metadata": {},
   "outputs": [],
   "source": [
    "# target\n",
    "imp.reload(emlddmm)\n",
    "xJ,J,title,names = emlddmm.read_data(target_name)\n",
    "J = J.astype(float)\n",
    "J /= np.mean(np.abs(J))\n",
    "xJ = [x for x in xJ]\n",
    "dJ = np.array([x[1]-x[0] for x in xJ])\n",
    "print(dJ)\n",
    "J = J.astype(float)#**0.25\n",
    "fig = emlddmm.draw(J,xJ)\n",
    "fig[0].suptitle('Target image')\n",
    "fig[0].canvas.draw()\n",
    "W0 = np.ones_like(J[0])\n"
   ]
  },
  {
   "cell_type": "code",
   "execution_count": null,
   "metadata": {},
   "outputs": [],
   "source": [
    "fig,ax = plt.subplots()\n",
    "ax.hist(J.ravel(),bins=100,log=True)\n",
    "ax.set_title('Target pixel intensities')"
   ]
  },
  {
   "cell_type": "code",
   "execution_count": null,
   "metadata": {},
   "outputs": [],
   "source": [
    "# initial downsampling so there isn't so much on the gpu\n",
    "mindownJ = np.min(np.array(downJs),0)\n",
    "xJ,J = emlddmm.downsample_image_domain(xJ,J,mindownJ)\n",
    "W0 = emlddmm.downsample(W0,mindownJ)\n",
    "downJs = [ list((np.array(d)/mindownJ).astype(int)) for d in downJs]\n",
    "dJ = [x[1]-x[0] for x in xJ]\n",
    "print(dJ)\n",
    "nJ = np.array(J.shape,dtype=int)\n",
    "# update our config variable\n",
    "config['downJ'] = downJs"
   ]
  },
  {
   "cell_type": "code",
   "execution_count": null,
   "metadata": {
    "scrolled": false
   },
   "outputs": [],
   "source": [
    "fig = emlddmm.draw(J,xJ)\n",
    "fig[0].suptitle('Initial downsampled target')\n",
    "fig[0].canvas.draw()\n"
   ]
  },
  {
   "cell_type": "code",
   "execution_count": null,
   "metadata": {},
   "outputs": [],
   "source": [
    "imp.reload(emlddmm)\n",
    "# visualize initial affine\n",
    "if 'A' in config:\n",
    "    A = np.array(config['A']).astype(float)\n",
    "else:\n",
    "    A = np.eye(4)\n",
    "print(A)\n",
    "\n",
    "# this affine matrix should be 4x4, but it may be 1x4x4\n",
    "while A.ndim > 2:\n",
    "    A = A[0]\n",
    "Ai = np.linalg.inv(A)\n",
    "XJ = np.stack(np.meshgrid(*xJ,indexing='ij'),-1)\n",
    "Xs = (Ai[:3,:3]@XJ[...,None])[...,0] + Ai[:3,-1]\n",
    "out = emlddmm.interp(xI,I,Xs.transpose((3,0,1,2)))\n",
    "fig = emlddmm.draw(out,xJ)\n",
    "fig[0].suptitle('Initial transformed atlas')"
   ]
  },
  {
   "cell_type": "code",
   "execution_count": null,
   "metadata": {
    "scrolled": false
   },
   "outputs": [],
   "source": [
    "device = 'cuda:0'\n",
    "#device = 'cpu'\n",
    "output = emlddmm.emlddmm_multiscale(I=I,xI=[xI],J=J,xJ=[xJ],W0=W0,device=device,**config)"
   ]
  },
  {
   "cell_type": "code",
   "execution_count": null,
   "metadata": {},
   "outputs": [],
   "source": [
    "imp.reload(emlddmm)\n",
    "emlddmm.write_transform_outputs(output_dir,output[-1])"
   ]
  },
  {
   "cell_type": "code",
   "execution_count": null,
   "metadata": {
    "scrolled": false
   },
   "outputs": [],
   "source": [
    "imp.reload(emlddmm)\n",
    "emlddmm.write_qc_outputs(output_dir,output[-1],xI,I,xJ,J)"
   ]
  },
  {
   "cell_type": "code",
   "execution_count": null,
   "metadata": {},
   "outputs": [],
   "source": [
    "# apply forward transform (target image to atlas)\n",
    "imp.reload(emlddmm)\n",
    "Xin = torch.stack(torch.meshgrid([torch.as_tensor(x) for x in xI]))\n",
    "Xout = emlddmm.compose_sequence(output_dir,Xin)\n",
    "Jt = emlddmm.apply_transform_float(xJ,J,Xout)"
   ]
  },
  {
   "cell_type": "code",
   "execution_count": null,
   "metadata": {},
   "outputs": [],
   "source": [
    "fig = emlddmm.draw(Jt,xI)\n",
    "fig[0].suptitle('Transformed target')\n",
    "fig[0].canvas.draw()"
   ]
  },
  {
   "cell_type": "code",
   "execution_count": null,
   "metadata": {},
   "outputs": [],
   "source": [
    "# apply backward transform (atlas images to target)\n",
    "Xin = torch.stack(torch.meshgrid([torch.as_tensor(x) for x in xJ]))\n",
    "Xout = emlddmm.compose_sequence(output_dir,Xin,direction='b')\n",
    "It = emlddmm.apply_transform_float(xI,I,Xout)\n"
   ]
  },
  {
   "cell_type": "code",
   "execution_count": null,
   "metadata": {},
   "outputs": [],
   "source": [
    "fig = emlddmm.draw(It,xJ)\n",
    "fig[0].canvas.draw()\n"
   ]
  },
  {
   "cell_type": "code",
   "execution_count": null,
   "metadata": {},
   "outputs": [],
   "source": [
    "atlas_output_dir = os.path.join(output_dir,'to_atlas')\n",
    "if not os.path.isdir(atlas_output_dir): os.mkdir(atlas_output_dir)\n",
    "target_output_dir = os.path.join(output_dir,'to_target')\n",
    "if not os.path.isdir(target_output_dir): os.mkdir(target_output_dir)"
   ]
  },
  {
   "cell_type": "code",
   "execution_count": null,
   "metadata": {},
   "outputs": [],
   "source": [
    "# write transformed images, these are at low res\n",
    "imp.reload(emlddmm)\n",
    "ext = '.vtk'\n",
    "if ext[0] != '.': ext = '.' + ext\n",
    "imp.reload(emlddmm)\n",
    "emlddmm.write_data(os.path.join(atlas_output_dir,'target_to_atlas'+ext),xI,Jt,'target_to_atlas')\n",
    "\n",
    "emlddmm.write_data(os.path.join(target_output_dir,'atlas_to_target'+ext),xI,It,'atlas_to_target')\n"
   ]
  },
  {
   "cell_type": "code",
   "execution_count": null,
   "metadata": {
    "scrolled": false
   },
   "outputs": [],
   "source": [
    "# reload atlas at full res \n",
    "# atlas\n",
    "imp.reload(emlddmm)\n",
    "xI,I,title,names = emlddmm.read_data(atlas_name)\n",
    "I = I.astype(float)\n",
    "# normalize\n",
    "I /= np.mean(np.abs(I))\n",
    "dI = np.array([x[1]-x[0] for x in xI])\n",
    "print(dI)\n",
    "fig = emlddmm.draw(I,xI)\n",
    "fig[0].suptitle('Atlas image')\n",
    "\n",
    "\n",
    "\n",
    "# transform target images at full res\n",
    "xJ,J,title,names = emlddmm.read_data(target_name)\n",
    "J = J.astype(float)\n",
    "J /= np.mean(np.abs(J))\n",
    "xJ = [x for x in xJ]\n",
    "dJ = np.array([x[1]-x[0] for x in xJ])\n",
    "print(dJ)\n",
    "J = J.astype(float)#**0.25\n",
    "fig = emlddmm.draw(J,xJ)\n",
    "fig[0].suptitle('Target image')\n",
    "fig[0].canvas.draw()\n",
    "\n",
    "Xin = torch.stack(torch.meshgrid([torch.as_tensor(x) for x in xI]))\n",
    "Xout = emlddmm.compose_sequence(output_dir,Xin)\n",
    "Jt = emlddmm.apply_transform_float(xJ,J,Xout)\n",
    "\n",
    "fig = emlddmm.draw(Jt,xI)\n",
    "fig[0].suptitle('Target to atlas')\n",
    "fig[0].canvas.draw()\n",
    "\n",
    "# write out\n",
    "outname = os.path.splitext(os.path.split(target_name)[1])[0]\n",
    "outname = os.path.join(atlas_output_dir,outname+ext)\n",
    "emlddmm.write_data(outname,xI,Jt,'target_to_atlas')"
   ]
  }
 ],
 "metadata": {
  "interpreter": {
   "hash": "53a584f8262ceeeafe7af65b66bf0446ad5d9e62941ae7c953bbefa83b16196b"
  },
  "kernelspec": {
   "display_name": "Python 3 (ipykernel)",
   "language": "python",
   "name": "python3"
  },
  "language_info": {
   "codemirror_mode": {
    "name": "ipython",
    "version": 3
   },
   "file_extension": ".py",
   "mimetype": "text/x-python",
   "name": "python",
   "nbconvert_exporter": "python",
   "pygments_lexer": "ipython3",
   "version": "3.7.7"
  }
 },
 "nbformat": 4,
 "nbformat_minor": 4
}
